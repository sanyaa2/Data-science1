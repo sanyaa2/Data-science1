{
 "cells": [
  {
   "cell_type": "markdown",
   "id": "9763aed5-841c-41e2-a7b4-d4515de5229b",
   "metadata": {},
   "source": [
    "# Data Science Tools and Ecosystem"
   ]
  },
  {
   "cell_type": "markdown",
   "id": "f51d581b-f77d-4179-9888-30b9eb6577be",
   "metadata": {},
   "source": [
    "In this notebook, Data Science Tools and Ecosystem are summarized"
   ]
  },
  {
   "cell_type": "markdown",
   "id": "d4b33cc2-54ab-4314-a771-70a76d321c48",
   "metadata": {},
   "source": [
    "</dt> Some of the popular languages that Data Scientists use are:</dt>\n",
    "<dd> 1. R <dd>\n",
    "<dd> 2. Python <dd>\n",
    "<dd> 3. Java <dd>"
   ]
  },
  {
   "cell_type": "markdown",
   "id": "64d166ee-520c-42d3-8525-88a1440457a5",
   "metadata": {},
   "source": [
    "<dt> Some of the commonly used libraries used by Data Scientists include: <dt>\n",
    "<dd> 1. Panda. <dd> \n",
    "<dd> 2. Matplotlib. <dd>\n",
    "<dd> 3. NumPy <dd>\n",
    "    "
   ]
  },
  {
   "cell_type": "markdown",
   "id": "2f40fea2-1568-4d39-9a7d-a951581ced3c",
   "metadata": {},
   "source": [
    "**Objectives:**\n",
    "\n",
    "-The capabilities of R and its uses in Data Science. \n",
    "\n",
    "-Popular R packages for Data Science.\n",
    "\n",
    "-Popular data visualization packages in R.\n",
    "\n",
    "-Plotting with the inbuilt R plot function.\n",
    "\n",
    "-Plotting with ggplot."
   ]
  },
  {
   "cell_type": "markdown",
   "id": "c53f8004-2bda-47ea-867e-3008790eaba6",
   "metadata": {},
   "source": [
    "|Data Science Tools|\n",
    "|------------------|\n",
    "|Jupyter Notebooks |\n",
    "|RStudio|\n",
    "|Apache Zeppelin|"
   ]
  },
  {
   "cell_type": "markdown",
   "id": "a103e104-9c0a-40ed-bd8e-d2de28395528",
   "metadata": {},
   "source": [
    "###Below are a few examples of evaluating arithmetic expressions in Python"
   ]
  },
  {
   "cell_type": "code",
   "execution_count": 1,
   "id": "a3656b99-da2d-4efd-bb67-69c3fd61b52d",
   "metadata": {
    "tags": []
   },
   "outputs": [
    {
     "data": {
      "text/plain": [
       "9"
      ]
     },
     "execution_count": 1,
     "metadata": {},
     "output_type": "execute_result"
    }
   ],
   "source": [
    "4+5"
   ]
  },
  {
   "cell_type": "code",
   "execution_count": 2,
   "id": "6da630da-b04b-4b82-bfe3-bc442746a03a",
   "metadata": {
    "tags": []
   },
   "outputs": [
    {
     "data": {
      "text/plain": [
       "16"
      ]
     },
     "execution_count": 2,
     "metadata": {},
     "output_type": "execute_result"
    }
   ],
   "source": [
    "2*8"
   ]
  },
  {
   "cell_type": "code",
   "execution_count": 3,
   "id": "ba05a6fd-6e02-4f58-8b57-bad9f39f066d",
   "metadata": {
    "tags": []
   },
   "outputs": [
    {
     "data": {
      "text/plain": [
       "17"
      ]
     },
     "execution_count": 3,
     "metadata": {},
     "output_type": "execute_result"
    }
   ],
   "source": [
    "##This a simple arithmetic expression to mutiply then add integers\n",
    "(3*4)+5"
   ]
  },
  {
   "cell_type": "code",
   "execution_count": 4,
   "id": "f5fe4cd5-9f2b-4674-b770-b8bea96136c5",
   "metadata": {
    "tags": []
   },
   "outputs": [
    {
     "data": {
      "text/plain": [
       "3.3333333333333335"
      ]
     },
     "execution_count": 4,
     "metadata": {},
     "output_type": "execute_result"
    }
   ],
   "source": [
    "##This will convert 200 minutes to hours by diving by 60\n",
    "200/60"
   ]
  },
  {
   "cell_type": "markdown",
   "id": "ada129de-ab17-41db-bd52-df4c597f667a",
   "metadata": {},
   "source": [
    "## Author\n",
    "\n",
    "**Sanya Aggarwal**"
   ]
  },
  {
   "cell_type": "code",
   "execution_count": null,
   "id": "0b9b6496-575b-4713-a743-90f8e5b91b61",
   "metadata": {},
   "outputs": [],
   "source": []
  }
 ],
 "metadata": {
  "kernelspec": {
   "display_name": "Python",
   "language": "python",
   "name": "conda-env-python-py"
  },
  "language_info": {
   "codemirror_mode": {
    "name": "ipython",
    "version": 3
   },
   "file_extension": ".py",
   "mimetype": "text/x-python",
   "name": "python",
   "nbconvert_exporter": "python",
   "pygments_lexer": "ipython3",
   "version": "3.7.12"
  }
 },
 "nbformat": 4,
 "nbformat_minor": 5
}
